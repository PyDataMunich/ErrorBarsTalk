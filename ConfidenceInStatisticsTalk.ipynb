{
 "cells": [
  {
   "cell_type": "markdown",
   "metadata": {},
   "source": [
    "## Packages Used for this Demo"
   ]
  },
  {
   "cell_type": "code",
   "execution_count": 20,
   "metadata": {
    "slideshow": {
     "slide_type": "slide"
    }
   },
   "outputs": [],
   "source": [
    "import numpy as np\n",
    "from scipy import stats\n",
    "import pandas as pd\n",
    "import matplotlib.pyplot as plt\n",
    "import seaborn as sns\n",
    "from ipywidgets import interact, interactive, FloatSlider, Dropdown, IntSlider, FloatLogSlider, Checkbox, GridBox, VBox, HBox, Layout"
   ]
  },
  {
   "cell_type": "markdown",
   "metadata": {},
   "source": [
    "## Demo"
   ]
  },
  {
   "cell_type": "code",
   "execution_count": 53,
   "metadata": {
    "slideshow": {
     "slide_type": "skip"
    }
   },
   "outputs": [
    {
     "data": {
      "application/vnd.jupyter.widget-view+json": {
       "model_id": "da3d1fa6996f4542b271842e869cbc03",
       "version_major": 2,
       "version_minor": 0
      },
      "text/plain": [
       "VBox(children=(HBox(children=(VBox(children=(FloatSlider(value=0.5, description='mean', max=3.0, min=-3.0), Fl…"
      ]
     },
     "metadata": {},
     "output_type": "display_data"
    }
   ],
   "source": [
    "def error_bars_demo(mean=0., std=1., n=100., errorbar='std', distribution='norm', show_dist=False, show_hist=False, seaborn_plot=None, ):\n",
    "    n = int(n)\n",
    "    x = np.linspace(-20, 20, 1000)\n",
    "    if distribution == 'norm':\n",
    "        dist = stats.norm(mean, std)\n",
    "    else:\n",
    "        dist = stats.gamma(3, mean, std)\n",
    "    data = dist.rvs(n)\n",
    "    mean = dist.mean() if not show_hist else np.mean(data)\n",
    "    std = dist.std()   if not show_hist else np.std(data)\n",
    "    pdf = dist.pdf(x) #if source=='dist' else \n",
    "    sem = np.std(data) / np.sqrt(n - 1)\n",
    "    dist_derived = stats.norm(np.mean(data), sem)\n",
    "    pdf_derived = dist_derived.pdf(x)\n",
    "    \n",
    "    \n",
    "    if errorbar == 'std':\n",
    "        error_range = np.linspace(mean - std, mean + std, 200)\n",
    "    elif errorbar == '2std':\n",
    "        error_range = np.linspace(mean - 2 * std, mean + 2 * std, 200)\n",
    "    elif errorbar == '95% IQI':\n",
    "        if not show_hist:\n",
    "            error_range = np.linspace(*dist.interval(.95), num=600) \n",
    "        else:\n",
    "            error_range = np.linspace(*np.percentile(data, [2.5, 97.5]), num=600)\n",
    "    elif errorbar == 'sem':\n",
    "        error_range = np.linspace(mean - sem, mean + sem, 600)\n",
    "    elif errorbar == '2sem':\n",
    "        error_range = np.linspace(mean - 2 * sem, mean + 2 * sem, 600)\n",
    "    elif errorbar == '95% CI':\n",
    "        boot_ci = 500\n",
    "        bootstrapped_data = np.random.choice(data, size=(len(data), boot_ci))\n",
    "        bootstrapped_means = np.mean(bootstrapped_data, axis=0)\n",
    "        assert len(bootstrapped_means) == boot_ci\n",
    "        error_range = np.linspace(*np.percentile(bootstrapped_means, [2.5, 97.5]), num=600)\n",
    "        \n",
    "        \n",
    "    error_pdf = dist.pdf(error_range)\n",
    "    \n",
    "    \n",
    "    # Plots\n",
    "    fig = plt.figure(figsize=(15, 9))\n",
    "    ax1 = plt.subplot2grid((3, 4), (0, 0), rowspan=3, fig=fig);\n",
    "    ax2 = plt.subplot2grid((3, 4), (0, 1), rowspan=1, colspan=2, fig=fig)\n",
    "    ax3 = plt.subplot2grid((3, 4), (0, 3), rowspan=3, fig=fig)\n",
    "    ax4 = plt.subplot2grid((3, 4), (1, 1), rowspan=1, colspan=2, fig=fig)\n",
    "    ax5 = plt.subplot2grid((3, 4), (2, 1), rowspan=1, colspan=2, fig=fig)\n",
    "    ax_lims = [-6, 6]\n",
    "    \n",
    "    ## Bar Chart, with Error Bars\n",
    "#     ax1.bar(['Control'], mean, alpha=0.3, width=0.2)\n",
    "#     ax1.errorbar(x=0, y=mean, yerr=error_range.max() - mean, fmt='ko', capsize=10)\n",
    "    ax1.errorbar(x=0, y=mean, yerr=[[mean - error_range.min()], [error_range.max() - mean]], fmt='ko', capsize=10)\n",
    "    ax1.set(xlim=[-1, 1], ylim=ax_lims, xticks=[])\n",
    "    ax1.hlines(0, *ax_lims, linestyle='dotted', color='black')\n",
    "    \n",
    "    \n",
    "    ## Distribution, with Error Bar Coverage Highlighted \n",
    "    if show_dist:\n",
    "        ax2.plot(x, pdf, label='PDF of Normal Distribution', linewidth=3);\n",
    "        ax2.errorbar(x=mean, y=0.1 * np.max(pdf), xerr=[[mean - error_range.min()], [error_range.max() - mean]], fmt='ko', capsize=10)\n",
    "        ax2.fill_between(error_range, error_pdf, color='red', alpha=0.3, label='1 Standard Deviation')\n",
    "        ax2.text(mean, 0.5 * np.max(pdf), f\"{(np.diff(error_range) * error_pdf[:-1]).sum() / (np.diff(x) * pdf[:-1]).sum():.1%}\", horizontalalignment='center')\n",
    "        ax2.vlines(dist.mean(), *ax2.get_ylim(), linestyle='dotted')\n",
    "    ax2.set(yticklabels=[], xlim=ax_lims, yticks=[])\n",
    "    \n",
    "    ## Seaborn's Representation\n",
    "    if seaborn_plot:\n",
    "        # Instead of the figure-level sns.catplot(kind='strip'), use the equivelent, axis-level sns.stripplot() to put it inside the existing figure.\n",
    "        distribution_plots = {'strip': sns.stripplot, 'swarm': sns.swarmplot, 'box': sns.boxplot, 'violin': sns.violinplot, 'boxen': sns.boxenplot, 'point': sns.pointplot, 'bar': sns.barplot}\n",
    "        distribution_plots[seaborn_plot](y='Scores', data=pd.DataFrame({'Scores': data}), ax=ax3);\n",
    "    ax3.hlines(0, *ax_lims, linestyle='dotted', color='black')\n",
    "    ax3.set(ylim=ax_lims, xticks=[])\n",
    "    \n",
    "    ## Show Data Distribution\n",
    "    if show_hist:\n",
    "        sns.distplot(data, ax=ax4)\n",
    "        ax4.vlines(np.mean(data), *ax4.get_ylim(), linestyle='dotted')\n",
    "    ax4.set(xlim=ax_lims, yticks=[])\n",
    "    \n",
    "    ## \n",
    "    if errorbar == '95% CI':\n",
    "        for boot in bootstrapped_data.T[::20]:  #No need to show them all...\n",
    "            sns.kdeplot(boot, alpha=0.2, color=sns.color_palette()[0], ax=ax5)\n",
    "        ax5.vlines(bootstrapped_means, *ax4.get_ylim(), alpha=0.02, color=sns.color_palette()[3])\n",
    "    elif errorbar == 'sem' or errorbar == '2sem':\n",
    "        ax5.plot(x, pdf_derived)\n",
    "        ax5.fill_between(error_range, dist_derived.pdf(error_range), color=sns.color_palette()[1], alpha=0.3)\n",
    "    ax5.set(xlim=ax_lims, yticks=[])\n",
    "    \n",
    "\n",
    "h1 = interactive(error_bars_demo,\n",
    "    mean = FloatSlider(0.5, min=-3, max=3),\n",
    "    std = FloatSlider(1, min=0.01, max=4),\n",
    "    n = IntSlider(40, min=6, max=400),\n",
    "    errorbar = Dropdown(options=['std', '2std', '95% IQI', 'sem', '2sem', '95% CI']),\n",
    "    show_dist = Checkbox(False),\n",
    "    distribution = Dropdown(options=['norm', 'gamma']),\n",
    "    show_hist = Checkbox(False),\n",
    "    seaborn_plot = Dropdown(options=[None, 'strip', 'swarm', 'box', 'violin', 'boxen', 'point', 'bar']),\n",
    ")\n",
    "\n",
    "VBox([HBox([VBox(h1.children[:3]), VBox(h1.children[3:6]), VBox(h1.children[6:8])]), h1.children[-1]])"
   ]
  },
  {
   "cell_type": "code",
   "execution_count": null,
   "metadata": {},
   "outputs": [],
   "source": []
  }
 ],
 "metadata": {
  "kernelspec": {
   "display_name": "Python 3",
   "language": "python",
   "name": "python3"
  },
  "language_info": {
   "codemirror_mode": {
    "name": "ipython",
    "version": 3
   },
   "file_extension": ".py",
   "mimetype": "text/x-python",
   "name": "python",
   "nbconvert_exporter": "python",
   "pygments_lexer": "ipython3",
   "version": "3.7.1"
  }
 },
 "nbformat": 4,
 "nbformat_minor": 2
}
